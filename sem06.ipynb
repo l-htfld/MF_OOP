{
 "cells": [
  {
   "cell_type": "markdown",
   "id": "dc34e49d-531e-47dc-ba78-b02f644ce2ff",
   "metadata": {},
   "source": [
    "#### Задача 1. \n",
    "\n",
    "Реализуйте для класса Human метод \\_\\_bool\\_\\_, который будет проверять нашего человека на совершеннолетие. "
   ]
  },
  {
   "cell_type": "code",
   "execution_count": 18,
   "id": "1b6137fa-b8fd-4a9c-b809-a6cf1fb3b5bf",
   "metadata": {},
   "outputs": [],
   "source": [
    "# your code here\n",
    "class Human:\n",
    "   def __init__(self, age):\n",
    "       self.age = age\n",
    "\n",
    "   def __bool__(self):\n",
    "       if self.age >= 18:\n",
    "           return True\n",
    "       else:\n",
    "           return False"
   ]
  },
  {
   "cell_type": "code",
   "execution_count": 19,
   "id": "d16c21d4",
   "metadata": {},
   "outputs": [
    {
     "name": "stdout",
     "output_type": "stream",
     "text": [
      "<__main__.Human object at 0x000001B6EECAB970>\n"
     ]
    }
   ],
   "source": [
    "human = Human(20)\n",
    "print(human)"
   ]
  },
  {
   "cell_type": "markdown",
   "id": "1982316a-fb7a-4bca-820b-22aef8be5ceb",
   "metadata": {},
   "source": [
    "#### Задача 2. \n",
    "\n",
    "Напишите класс Linguist, у которого при создании будут повляться четыре динамических атрибута: имя, аффилиация, показатель выносливости (stamina) и список публикаций (по умолчанию пустой). "
   ]
  },
  {
   "cell_type": "code",
   "execution_count": 21,
   "id": "4a4865ff-bc02-4607-a353-7cbca6eb290c",
   "metadata": {},
   "outputs": [],
   "source": [
    "from time import sleep # sleep(n) - программа будет ждать n секунд\n",
    "\n",
    "class Linguist:\n",
    "    def __init__(self, name, affiliation, stamina=100, publications=None): # иницируем класс с данными о лингвисте\n",
    "        self.name = name\n",
    "        self.affiliation = affiliation\n",
    "        self.stamina = stamina\n",
    "        self.publications = publications if publications is not None else []\n",
    "\n",
    "    def __str__(self): # лингвист пердставляется\n",
    "        return f\"Linguist {self.name}\"\n",
    "\n",
    "    def __repr__(self):\n",
    "        return f\"Linguist(name='{self.name}', affiliation='{self.affiliation}', stamina={self.stamina}, publications={self.publications})\"\n",
    "\n",
    "    def work(self, publication): \n",
    "        work_time = len(publication) # сколько всего публикаций\n",
    "        self.stamina -= work_time # при каждой новой публикации выносливость падает\n",
    "        if self.stamina < 0:\n",
    "            self.stamina = 0 \n",
    "        sleep(work_time)\n",
    "        self.publications.append(publication)\n",
    "\n",
    "    def sleep(self, hours):\n",
    "        self.stamina += hours * 10 # каждый час прибавляется к выносливости\n",
    "        sleep(hours * 3600)\n",
    "\n",
    "    def show_publications(self):\n",
    "        return self.publications"
   ]
  },
  {
   "cell_type": "markdown",
   "id": "76f98ef1-b10c-4bc1-a15b-55553e5d52fb",
   "metadata": {},
   "source": [
    "#### Задача 3. \n",
    "\n",
    "Доработаем задачу 2: добавьте класс \"публикация\", чтобы у публикации была еще некоторая информация о ее объеме (и, соответственно, чтобы можно было вычислять количество времени, которое на нее нужно потратить). А у лингвиста теперь должен появиться показатель \"наработал в экспедициях\", который будет пополняться в специальном методе go_to_expedition(), и если его значение будет недостаточным для выбранной публикации, нужно об этом предупреждать и публикацию не добавлять. "
   ]
  },
  {
   "cell_type": "code",
   "execution_count": null,
   "id": "0e43a95c-38ac-496c-be41-38a0107819a8",
   "metadata": {},
   "outputs": [],
   "source": [
    "class Linguist:\n",
    "    # previous code...\n",
    "    \n",
    "    def go_to_expedition(self, area, days):\n",
    "        '''\n",
    "        Можно придумать что-нибудь и для региона, куда едет лингвист:\n",
    "        допустим, на Кавказе показатель будет расти быстрее, чем в Поволжье и т.п.\n",
    "        '''\n",
    "        # your code here\n",
    "\n",
    "class Publication:\n",
    "    def __init__(self, name, volume, data):\n",
    "        '''\n",
    "        name - имя публикации\n",
    "        volume - количество страниц\n",
    "        data - количество необходимого материала (в попугаях...)\n",
    "        '''\n",
    "        # your code here\n",
    "        \n",
    "    def __str__(self):\n",
    "        # your code here\n",
    "        \n",
    "    def __repr__(self):\n",
    "        # your code here"
   ]
  }
 ],
 "metadata": {
  "kernelspec": {
   "display_name": "Python 3 (ipykernel)",
   "language": "python",
   "name": "python3"
  },
  "language_info": {
   "codemirror_mode": {
    "name": "ipython",
    "version": 3
   },
   "file_extension": ".py",
   "mimetype": "text/x-python",
   "name": "python",
   "nbconvert_exporter": "python",
   "pygments_lexer": "ipython3",
   "version": "3.8.0"
  }
 },
 "nbformat": 4,
 "nbformat_minor": 5
}
